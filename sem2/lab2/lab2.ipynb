{
 "cells": [
  {
   "cell_type": "markdown",
   "metadata": {},
   "source": [
    "<h1 style=\"text-align:center;\">Лабораторная работа №6</h2>\n",
    "\n",
    "<h2 style=\"text-align:center;\">Решение жесткой системы однородных  дифференциальных уравнений явными методами</h2>\n",
    "\n",
    "<h3 style=\"text-align:center;\">Тулупов Николай Дмитриевич</h3>\n",
    "<h3 style=\"text-align:center;\">Б01-204</h3>"
   ]
  },
  {
   "cell_type": "markdown",
   "metadata": {},
   "source": [
    "Цель: решить выбранную задачу перечисленными методами:   \n",
    "\n",
    "0) Попробовать явный метод из лабы 2\n",
    "1) Неявные методы Рунге-Кутта 3+ порядка\n",
    "2) Невные методы Адамса / ФДН (методы Гира) 3+ порядка\n",
    "3) Метод Розенброка-Ваннера 2, 3+ порядка   \n",
    "4) методы Гира в представлении Нордсика \n",
    "     \n",
    "<img src=\"images\\task.png\" alt=\"drawing\" width=\"750\"/>"
   ]
  },
  {
   "cell_type": "markdown",
   "metadata": {},
   "source": [
    "**Чем отличаются жесткие системы?**   \n",
    " У них есть быстро затухающие компоненты и медленно меняющиеся одновременно. Поэтому при решении обычными (явными) методами нужно брать очень маленький шаг, иначе решение разлетается.\n",
    "\n",
    "**Почему неявные методы лучше для жёстких?**   \n",
    "Потому что они устойчивы при больших шагах даже для \"резких\" уравнений!\n",
    "\n",
    "\n"
   ]
  },
  {
   "cell_type": "code",
   "execution_count": 205,
   "metadata": {},
   "outputs": [],
   "source": [
    "%matplotlib inline\n",
    "import numpy as np\n",
    "import math\n",
    "import matplotlib.pyplot as plt"
   ]
  },
  {
   "cell_type": "code",
   "execution_count": 206,
   "metadata": {},
   "outputs": [],
   "source": [
    "t_start = 0\n",
    "t_stop = 20\n",
    "Y0 = [0.5,  0,    0,    np.sqrt(3)]\n",
    "#     x(0)  y(0)  z(0)  u(0)"
   ]
  },
  {
   "cell_type": "code",
   "execution_count": 207,
   "metadata": {},
   "outputs": [],
   "source": [
    "def f(t, Y):\n",
    "    x, y, z, u = Y\n",
    "    r = (x**2 + y**2)**1.5\n",
    "    return [z, u, -x / r, -y / r]\n"
   ]
  },
  {
   "cell_type": "markdown",
   "metadata": {},
   "source": [
    "### **Явные методы**"
   ]
  },
  {
   "cell_type": "code",
   "execution_count": 208,
   "metadata": {},
   "outputs": [],
   "source": [
    "def runge_kutt_explicit(f, t, Y, h, order):\n",
    "    l = len(Y)\n",
    "    if order == 1:\n",
    "        k1 = f(t, Y)\n",
    "        return [ (Y[i] + h * k1[i])  for i in range(l)]\n",
    "    \n",
    "    elif order == 2:\n",
    "        k1 = f(t, Y)\n",
    "        Y_pred = [Y[i] + h * k1[i] for i in range(l)]  # прогноз\n",
    "        k2 = f(t + h, Y_pred)\n",
    "        return [Y[i] + h * (k1[i] + k2[i]) / 2 for i in range(l)]\n",
    "    \n",
    "    elif order == 3:\n",
    "        k1 = f(t, Y)\n",
    "        Y_pred_12 = [Y[i] + h * k1[i] / 2 for i in range(l)]\n",
    "        k2 = f(t + h/2, Y_pred_12)\n",
    "        Y_pred_23 =  [Y[i] - h * k1[i] + 2 * h * k2[i] for i in range(l)]\n",
    "        k3 = f(t + h, Y_pred_23)\n",
    "        return [Y[i] + h * (k1[i] + 4*k2[i] + k3[i]) / 6 for i in range(l)]\n",
    "    \n",
    "    elif order == 4:\n",
    "        k1 = f(t, Y)\n",
    "        Y_pred_12 = [Y[i] + h * k1[i] / 2 for i in range(l)]\n",
    "        k2 = f(t + h / 2, Y_pred_12)\n",
    "        Y_pred_23 = [Y[i] + h * k2[i] / 2 for i in range(l)]\n",
    "        k3 = f(t + h / 2, Y_pred_23)\n",
    "        Y_pred_34 = [Y[i] + h * k3[i] for i in range(l)]\n",
    "        k4 = f(t + h, Y_pred_34)\n",
    "        return [Y[i] + h * (k1[i] + 2*k2[i] + 2*k3[i] + k4[i]) / 6 for i in range(l)]\n",
    "    \n",
    "    else:\n",
    "        print(\"ERROR! Порядок должен быть от 1 до 4\")\n",
    "        return "
   ]
  },
  {
   "cell_type": "code",
   "execution_count": 209,
   "metadata": {},
   "outputs": [],
   "source": [
    "def integrate_runge_kutt_explicit(f, Y0, t_start, t_stop, h, order):\n",
    "    t = t_start\n",
    "    Y = Y0[:]\n",
    "    S = [[t] + Y] \n",
    "\n",
    "    while t < t_stop:\n",
    "        Y = runge_kutt_explicit(f, t, Y, h, order)\n",
    "        t += h\n",
    "        S.append([t] + Y)\n",
    "\n",
    "    return S #траектория"
   ]
  },
  {
   "cell_type": "code",
   "execution_count": 210,
   "metadata": {},
   "outputs": [],
   "source": [
    "def drawing(method, order):\n",
    "    h_vals = [10 ** i for i in range (-5, 1)]\n",
    "    x_vals = [0]*6\n",
    "    y_vals = [0]*6\n",
    "\n",
    "    for i in range(len(h_vals)):\n",
    "        S = method(f, Y0, t_start, t_stop, h_vals[i], order)\n",
    "        x_vals[i] = [p[1] for p in S]\n",
    "        y_vals[i] = [p[2] for p in S]\n",
    "        #plt.title(f'Траектория движения спутника: (РК1), шаг = {h}')\n",
    "\n",
    "    fig, axs = plt.subplots(2, 3, figsize=(15, 8))  # 2 строки, 3 столбца\n",
    "\n",
    "    axs = axs.flatten()  # чтобы обращаться как axs[0], axs[1], ...\n",
    "\n",
    "    for i in range(len(h_vals)):\n",
    "        axs[i].plot(x_vals[i], y_vals[i])\n",
    "        axs[i].set_title(f\"Шаг h = {h_vals[i]}\")\n",
    "        axs[i].set_xlabel('x')\n",
    "        axs[i].set_ylabel('y')\n",
    "        axs[i].axis('equal')  # чтобы не искажалась орбита\n",
    "        axs[i].grid(True)\n",
    "\n",
    "\n",
    "\n",
    "    method_name = method.__name__\n",
    "\n",
    "    # Красивое название (преобразуем имя функции)\n",
    "    if \"adams\" in method_name:\n",
    "        method_display = \"Адамса\"\n",
    "    elif \"fdn\" in method_name:\n",
    "        method_display = \"ФДН\"\n",
    "    elif \"runge\" in method_name:\n",
    "        method_display = \"Рунге-Кутты\"\n",
    "    else:\n",
    "        method_display = method_name  # fallback\n",
    "\n",
    "    fig.suptitle(f\"Траектория движения спутника\\nМетод {method_display} {order} порядка\", fontsize=16)\n",
    "    plt.tight_layout()\n",
    "    plt.show()"
   ]
  }
 ],
 "metadata": {
  "kernelspec": {
   "display_name": "Python 3",
   "language": "python",
   "name": "python3"
  },
  "language_info": {
   "codemirror_mode": {
    "name": "ipython",
    "version": 3
   },
   "file_extension": ".py",
   "mimetype": "text/x-python",
   "name": "python",
   "nbconvert_exporter": "python",
   "pygments_lexer": "ipython3",
   "version": "3.10.11"
  }
 },
 "nbformat": 4,
 "nbformat_minor": 2
}
