{
 "cells": [
  {
   "cell_type": "markdown",
   "id": "242fb5c2",
   "metadata": {},
   "source": [
    "<h1 style=\"text-align:center;\">Лабораторная работа №5.2</h2>\n",
    "\n",
    "<h2 style=\"text-align:center;\">Решение уравнения в частных производных</h2>\n",
    "\n",
    "<h3 style=\"text-align:center;\">Тулупов Николай Дмитриевич</h3>\n",
    "<h3 style=\"text-align:center;\">Б01-204</h3>"
   ]
  },
  {
   "cell_type": "markdown",
   "id": "5bb0b3bc",
   "metadata": {},
   "source": [
    "### **Введение**"
   ]
  },
  {
   "cell_type": "markdown",
   "id": "0607f1a5",
   "metadata": {},
   "source": [
    "**Цель:**\n",
    "\n",
    "- \n",
    "- \n"
   ]
  },
  {
   "cell_type": "markdown",
   "id": "2415b8d5",
   "metadata": {},
   "source": []
  }
 ],
 "metadata": {
  "kernelspec": {
   "display_name": "Python 3",
   "language": "python",
   "name": "python3"
  },
  "language_info": {
   "name": "python",
   "version": "3.10.11"
  }
 },
 "nbformat": 4,
 "nbformat_minor": 5
}
